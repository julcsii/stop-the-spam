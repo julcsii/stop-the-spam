{
 "cells": [
  {
   "cell_type": "code",
   "execution_count": 8,
   "id": "devoted-postage",
   "metadata": {},
   "outputs": [],
   "source": [
    "import mlflow\n",
    "import pandas as pd\n",
    "from sklearn.feature_extraction.text import TfidfVectorizer\n",
    "from sklearn.compose import ColumnTransformer\n",
    "from sklearn.model_selection import train_test_split\n",
    "from sklearn.naive_bayes import MultinomialNB\n",
    "from sklearn.pipeline import Pipeline\n",
    "from sklearn.metrics import fbeta_score"
   ]
  },
  {
   "cell_type": "code",
   "execution_count": 3,
   "id": "champion-allergy",
   "metadata": {},
   "outputs": [],
   "source": [
    "input_data_path =\"data/manual_labeled_data.csv\"\n",
    "test_size = 0.2\n",
    "experiment_id = 3421272196413697\n",
    "random_state = 42\n",
    "betas = [1, 1/2, 1/8]"
   ]
  },
  {
   "cell_type": "code",
   "execution_count": 4,
   "id": "spare-friendship",
   "metadata": {},
   "outputs": [],
   "source": [
    "mlflow.set_tracking_uri(\"databricks\")"
   ]
  },
  {
   "cell_type": "code",
   "execution_count": 13,
   "id": "innovative-welsh",
   "metadata": {},
   "outputs": [],
   "source": [
    "mlflow.sklearn.autolog(log_input_examples=True)"
   ]
  },
  {
   "cell_type": "code",
   "execution_count": 6,
   "id": "satisfactory-intermediate",
   "metadata": {},
   "outputs": [],
   "source": [
    "input_data = pd.read_csv(input_data_path).fillna(\"\")"
   ]
  },
  {
   "cell_type": "code",
   "execution_count": 14,
   "id": "antique-painting",
   "metadata": {},
   "outputs": [],
   "source": [
    "# Improvements\n",
    "# - hold out set\n",
    "# - more data\n",
    "# - more metrics\n",
    "# - start and end characters for first name and last name\n",
    "# - play with tfidf parameters\n",
    "# - add shap or feature probabilities\n"
   ]
  },
  {
   "cell_type": "code",
   "execution_count": 15,
   "id": "solar-banana",
   "metadata": {
    "scrolled": true
   },
   "outputs": [
    {
     "name": "stdout",
     "output_type": "stream",
     "text": [
      "Reading data from data/manual_labeled_data.csv\n"
     ]
    },
    {
     "name": "stderr",
     "output_type": "stream",
     "text": [
      "2021/03/10 20:58:43 WARNING mlflow.sklearn.utils: Truncated the value of the key `steps`. Truncated value: `[('prep', ColumnTransformer(remainder='passthrough',\n",
      "                  transformers=[('first_name',\n",
      "                                 TfidfVectorizer(analyzer='char',\n",
      "                                                 lowercase=False,\n",
      "               ...`\n",
      "2021/03/10 20:58:43 WARNING mlflow.sklearn.utils: Truncated the value of the key `prep`. Truncated value: `ColumnTransformer(remainder='passthrough',\n",
      "                  transformers=[('first_name',\n",
      "                                 TfidfVectorizer(analyzer='char',\n",
      "                                                 lowercase=False,\n",
      "                         ...`\n",
      "2021/03/10 20:58:43 WARNING mlflow.sklearn.utils: Truncated the value of the key `prep__transformers`. Truncated value: `[('first_name', TfidfVectorizer(analyzer='char', lowercase=False, max_features=50, min_df=0.1,\n",
      "                ngram_range=(1, 2)), 'first_name'), ('last_name', TfidfVectorizer(analyzer='char', lowercase=False, max_features=50, min_df=0.1,\n",
      "       ...`\n"
     ]
    },
    {
     "name": "stdout",
     "output_type": "stream",
     "text": [
      "Fitting pipeline...\n"
     ]
    },
    {
     "name": "stderr",
     "output_type": "stream",
     "text": [
      "\n",
      "A value is trying to be set on a copy of a slice from a DataFrame.\n",
      "Try using .loc[row_indexer,col_indexer] = value instead\n",
      "\n",
      "See the caveats in the documentation: https://pandas.pydata.org/pandas-docs/stable/user_guide/indexing.html#returning-a-view-versus-a-copy\n",
      "\n",
      "A value is trying to be set on a copy of a slice from a DataFrame.\n",
      "Try using .loc[row_indexer,col_indexer] = value instead\n",
      "\n",
      "See the caveats in the documentation: https://pandas.pydata.org/pandas-docs/stable/user_guide/indexing.html#returning-a-view-versus-a-copy\n"
     ]
    },
    {
     "name": "stdout",
     "output_type": "stream",
     "text": [
      "Finished.\n"
     ]
    }
   ],
   "source": [
    "with mlflow.start_run(experiment_id=experiment_id) as run:\n",
    "    print(\"Reading data from {}\".format(input_data_path))\n",
    "    y = input_data.is_fake\n",
    "    X = input_data.drop('is_fake', axis=1)\n",
    "    X_train, X_test, y_train, y_test = train_test_split(X, y, test_size=test_size, random_state=random_state, stratify=y)\n",
    "    \n",
    "    mlflow.log_param(\"input_data_path\", input_data_path)\n",
    "    mlflow.log_param(\"test_size\", test_size)\n",
    "    \n",
    "    vectorizer_params = {\n",
    "        \"encoding\":\"utf-8\",\n",
    "        \"strip_accents\":None,\n",
    "        \"lowercase\":False,\n",
    "        \"analyzer\":\"char\",\n",
    "        \"stop_words\":None,\n",
    "        \"max_df\":1.0,\n",
    "        \"min_df\":0.1,\n",
    "        \"max_features\":50,\n",
    "        \"use_idf\":True\n",
    "    }\n",
    "    \n",
    "    ct = ColumnTransformer([(\"first_name\", TfidfVectorizer(**vectorizer_params, ngram_range=(1,2)), \"first_name\"),\n",
    "                            (\"last_name\", TfidfVectorizer(**vectorizer_params, ngram_range=(1,2)), \"last_name\"),\n",
    "                            (\"email\", TfidfVectorizer(**vectorizer_params, ngram_range=(1,3)), \"email\")\n",
    "                           ],\n",
    "                         remainder=\"passthrough\")\n",
    "    print(\"Fitting pipeline...\")\n",
    "    pipe = Pipeline([('prep', ct), ('clf', MultinomialNB())])\n",
    "        \n",
    "    pipe.fit(X_train, y_train)\n",
    "    y_pred = pipe.predict(X_test)\n",
    "    for b in betas:\n",
    "        mlflow.log_metric(\"f_beta\", fbeta_score(y_test, y_pred, beta=b))\n",
    "    \n",
    "    \n",
    "    # mlflow.shap.log_explanation(pipe.predict, X_train)\n",
    "    X_test.loc[:,\"y_true\"] = y_test\n",
    "    X_test.loc[:,\"y_pred\"] = y_pred\n",
    "    X_test.to_csv(\"test_data.csv\", index=False)\n",
    "    mlflow.log_artifact(\"test_data.csv\", \"test_data.csv\")\n",
    "    print(\"Finished.\")\n",
    "    "
   ]
  }
 ],
 "metadata": {
  "kernelspec": {
   "display_name": "Python 3",
   "language": "python",
   "name": "python3"
  },
  "language_info": {
   "codemirror_mode": {
    "name": "ipython",
    "version": 3
   },
   "file_extension": ".py",
   "mimetype": "text/x-python",
   "name": "python",
   "nbconvert_exporter": "python",
   "pygments_lexer": "ipython3",
   "version": "3.6.13"
  }
 },
 "nbformat": 4,
 "nbformat_minor": 5
}
